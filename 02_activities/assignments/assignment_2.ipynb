{
 "cells": [
  {
   "cell_type": "markdown",
   "metadata": {},
   "source": [
    "# Practice Interview\n",
    "\n",
    "## Objective\n",
    "\n",
    "_*The partner assignment aims to provide participants with the opportunity to practice coding in an interview context. You will analyze your partner's Assignment 1. Moreover, code reviews are common practice in a software development team. This assignment should give you a taste of the code review process.*_\n",
    "\n",
    "## Group Size\n",
    "\n",
    "Each group should have 2 people. You will be assigned a partner\n",
    "\n",
    "## Part 1:\n",
    "\n",
    "You and your partner must share each other's Assignment 1 submission."
   ]
  },
  {
   "cell_type": "markdown",
   "metadata": {},
   "source": [
    "\n",
    "## Part 2:\n",
    "\n",
    "Create a Jupyter Notebook, create 6 of the following headings, and complete the following for your partner's assignment 1:\n",
    "\n",
    "-   Paraphrase the problem in your own words.\n"
   ]
  },
  {
   "cell_type": "markdown",
   "metadata": {},
   "source": [
    "the goal is to find out if there are duplicated values in the nodes of a binary tree."
   ]
  },
  {
   "cell_type": "markdown",
   "metadata": {},
   "source": [
    "\n",
    "-   Create 1 new example that demonstrates you understand the problem. Trace/walkthrough 1 example that your partner made and explain it.\n"
   ]
  },
  {
   "cell_type": "code",
   "execution_count": null,
   "metadata": {},
   "outputs": [],
   "source": [
    "# Your answer here\n",
    "\n",
    "# Example 1:\n",
    "root = TreeNode(1)\n",
    "root.left = TreeNode(2)\n",
    "root.right = TreeNode(3)\n",
    "root.left.left = TreeNode(4)\n",
    "root.left.right = TreeNode(5)\n",
    "root.right.right = TreeNode(2)\n",
    "\n",
    "# Find duplicate\n",
    "duplicate = find_duplicate_bfs(root)"
   ]
  },
  {
   "cell_type": "markdown",
   "metadata": {},
   "source": [
    "\n",
    "-   Copy the solution your partner wrote. \n"
   ]
  },
  {
   "cell_type": "code",
   "execution_count": null,
   "metadata": {},
   "outputs": [
    {
     "name": "stdout",
     "output_type": "stream",
     "text": [
      "2\n"
     ]
    }
   ],
   "source": [
    "# Your answer here\n",
    "\n",
    "from collections import deque  # Import deque from collections\n",
    "\n",
    "class TreeNode:\n",
    "    def __init__(self, val=0, left=None, right=None):\n",
    "       self.val = val\n",
    "       self.left = left\n",
    "       self.right = right\n",
    "\n",
    "def find_duplicate_bfs(root: TreeNode) -> int:\n",
    "       if not root:\n",
    "        return -1\n",
    "        # Set to reord the seen values\n",
    "       seen_values = set()\n",
    "    \n",
    "        # Queue for bfs traversal\n",
    "       queue = deque([root])\n",
    "    \n",
    "       while queue:\n",
    "            node = queue.popleft()\n",
    "    \n",
    "            # Check for duplicate\n",
    "            if node.val in seen_values:\n",
    "               return node.val\n",
    "            seen_values.add(node.val)\n",
    "            \n",
    "            # Add children to the queue for bfs\\n\",\n",
    "            if node.left:\n",
    "                queue.append(node.left)\n",
    "            if node.right:\n",
    "                queue.append(node.right)\n",
    "    \n",
    "        # If no duplicates were found\n",
    "       return -1\n",
    "   "
   ]
  },
  {
   "cell_type": "code",
   "execution_count": 10,
   "metadata": {},
   "outputs": [
    {
     "name": "stdout",
     "output_type": "stream",
     "text": [
      "2\n"
     ]
    }
   ],
   "source": [
    "# Example 1:\n",
    "root = TreeNode(1)\n",
    "root.left = TreeNode(2)\n",
    "root.right = TreeNode(3)\n",
    "root.left.left = TreeNode(4)\n",
    "root.left.right = TreeNode(5)\n",
    "root.right.right = TreeNode(2)\n",
    "\n",
    "# Find duplicate\n",
    "duplicate = find_duplicate_bfs(root)\n",
    "print(duplicate)"
   ]
  },
  {
   "cell_type": "markdown",
   "metadata": {},
   "source": [
    "\n",
    "-   Explain why their solution works in your own words.\n"
   ]
  },
  {
   "cell_type": "markdown",
   "metadata": {},
   "source": [
    "##### Your answer here\n",
    "\n",
    "the solution works because it follows the binary tree search algorithm. The function is able to efficiently navigate the tree level by level, while checking for duplicates.The solution is simple and the recursive nature makes it work well."
   ]
  },
  {
   "cell_type": "markdown",
   "metadata": {},
   "source": [
    "\n",
    "-   Explain the problem’s time and space complexity in your own words.\n"
   ]
  },
  {
   "cell_type": "markdown",
   "metadata": {},
   "source": [
    "# Your answer here\n",
    "\n",
    "The time complexity of the TreeNode class itself is constant,𝑂(1) O(1), because creating a single node involves assigning values to the attributes (val, left, right), which is a fixed-time operation.\n",
    "\n",
    "For the traversal algorithm find_duplicate_bfs:\n",
    "\n",
    "Time Complexity: Traversing the entire tree takes 𝑂(𝑛), where 𝑛 n is the number of nodes, because each node is visited exactly once.\n",
    "Space Complexity: The space used depends on the size of the tree. In the worst case (a completely unbalanced tree), the queue could hold 𝑂(𝑛) nodes at a time. For a balanced tree, it holds 𝑂(ℎ), where ℎ h is the height of the tree. The seen_values set also requires 𝑂(𝑛) space for storing all unique node values."
   ]
  },
  {
   "cell_type": "markdown",
   "metadata": {},
   "source": [
    "\n",
    "-   Critique your partner's solution, including explanation, and if there is anything that should be adjusted.\n"
   ]
  },
  {
   "cell_type": "markdown",
   "metadata": {},
   "source": [
    "##### Your answer here\n",
    "The solution has limited functionality with the TreeNode class not providing additional methods for traversing the tree. This can be adjusted by adding utility methods. The function does not provide condition for handling edge cases like invalid nodes. There was also no clear handling of duplicate criteria where duplicates may need more nuanced definitions."
   ]
  },
  {
   "cell_type": "markdown",
   "metadata": {},
   "source": [
    "\n",
    "## Part 3:\n",
    "\n",
    "Please write a 200 word reflection documenting your process from assignment 1, and your presentation and review experience with your partner at the bottom of the Jupyter Notebook under a new heading \"Reflection.\" Again, export this Notebook as pdf.\n"
   ]
  },
  {
   "cell_type": "markdown",
   "metadata": {},
   "source": [
    "### Reflection"
   ]
  },
  {
   "cell_type": "markdown",
   "metadata": {},
   "source": [
    "# Your answer here\n",
    "\n",
    "For Assignment 1, which focused on implementing a \"Missing Number\" function, I began by carefully analyzing the problem to identify the most efficient approach. I considered various strategies, including mathematical formulas and bit manipulation, but ultimately settled on using a summation approach for its simplicity and efficiency. I wrote the function step by step, ensuring that I tested it on edge cases like arrays with a single missing number or an empty array. The thrill of seeing the function work correctly for all test cases made the process even more rewarding.\n",
    "\n",
    "Once the coding portion was complete, I moved on to the code review process with my partner. We discussed each other’s approaches and provided feedback to improve our implementations. For my partner’s TreeNode class, I reviewed their binary tree structure and the BFS traversal logic. I suggested some improvements, including optimizing memory usage and refining how duplicates are detected. We also talked about potential edge cases that needed to be addressed. This collaborative review process was invaluable, as it deepened my understanding of tree structures and helped me refine my ability to critique and offer constructive feedback.\n",
    "\n",
    "Overall, this assignment enhanced both my technical problem-solving skills and my ability to communicate solutions effectively. The review experience allowed me to learn from my partner’s code, improving my understanding of data structures while strengthening our collaborative efforts."
   ]
  },
  {
   "cell_type": "markdown",
   "metadata": {},
   "source": [
    "\n",
    "## Evaluation Criteria\n",
    "\n",
    "We are looking for the similar points as Assignment 1\n",
    "\n",
    "-   Problem is accurately stated\n",
    "\n",
    "-   New example is correct and easily understandable\n",
    "\n",
    "-   Correctness, time, and space complexity of the coding solution\n",
    "\n",
    "-   Clarity in explaining why the solution works, its time and space complexity\n",
    "\n",
    "-   Quality of critique of your partner's assignment, if necessary\n"
   ]
  },
  {
   "cell_type": "markdown",
   "metadata": {},
   "source": [
    "## Submission Information\n",
    "\n",
    "🚨 **Please review our [Assignment Submission Guide](https://github.com/UofT-DSI/onboarding/blob/main/onboarding_documents/submissions.md)** 🚨 for detailed instructions on how to format, branch, and submit your work. Following these guidelines is crucial for your submissions to be evaluated correctly.\n",
    "\n",
    "### Submission Parameters:\n",
    "* Submission Due Date: `HH:MM AM/PM - DD/MM/YYYY`\n",
    "* The branch name for your repo should be: `assignment-2`\n",
    "* What to submit for this assignment:\n",
    "    * This Jupyter Notebook (assignment_2.ipynb) should be populated and should be the only change in your pull request.\n",
    "* What the pull request link should look like for this assignment: `https://github.com/<your_github_username>/algorithms_and_data_structures/pull/<pr_id>`\n",
    "    * Open a private window in your browser. Copy and paste the link to your pull request into the address bar. Make sure you can see your pull request properly. This helps the technical facilitator and learning support staff review your submission easily.\n",
    "\n",
    "Checklist:\n",
    "- [ ] Created a branch with the correct naming convention.\n",
    "- [ ] Ensured that the repository is public.\n",
    "- [ ] Reviewed the PR description guidelines and adhered to them.\n",
    "- [ ] Verify that the link is accessible in a private browser window.\n",
    "\n",
    "If you encounter any difficulties or have questions, please don't hesitate to reach out to our team via our Slack at `#cohort-3-help`. Our Technical Facilitators and Learning Support staff are here to help you navigate any challenges.\n"
   ]
  }
 ],
 "metadata": {
  "kernelspec": {
   "display_name": "base",
   "language": "python",
   "name": "python3"
  },
  "language_info": {
   "codemirror_mode": {
    "name": "ipython",
    "version": 3
   },
   "file_extension": ".py",
   "mimetype": "text/x-python",
   "name": "python",
   "nbconvert_exporter": "python",
   "pygments_lexer": "ipython3",
   "version": "3.9.19"
  }
 },
 "nbformat": 4,
 "nbformat_minor": 2
}
